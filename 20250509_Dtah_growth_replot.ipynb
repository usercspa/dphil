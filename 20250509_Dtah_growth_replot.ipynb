{
  "nbformat": 4,
  "nbformat_minor": 0,
  "metadata": {
    "colab": {
      "provenance": [],
      "authorship_tag": "ABX9TyOL86Z9As3ZAn7CZhth+iJS",
      "include_colab_link": true
    },
    "kernelspec": {
      "name": "python3",
      "display_name": "Python 3"
    },
    "language_info": {
      "name": "python"
    }
  },
  "cells": [
    {
      "cell_type": "markdown",
      "metadata": {
        "id": "view-in-github",
        "colab_type": "text"
      },
      "source": [
        "<a href=\"https://colab.research.google.com/github/usercspa/dphil/blob/main/20250509_Dtah_growth_replot.ipynb\" target=\"_parent\"><img src=\"https://colab.research.google.com/assets/colab-badge.svg\" alt=\"Open In Colab\"/></a>"
      ]
    },
    {
      "cell_type": "code",
      "execution_count": 1,
      "metadata": {
        "id": "h_RE-FQOvZ_V"
      },
      "outputs": [],
      "source": [
        "# Install rpy2 to enable R magic commands\n",
        "!pip install -q rpy2\n",
        "\n",
        "# Install required R packages\n",
        "# The IRkernel is pre-installed in Colab, but we install ggplot2 just in case\n"
      ]
    },
    {
      "cell_type": "code",
      "source": [
        "# Load the R magic\n",
        "%load_ext rpy2.ipython"
      ],
      "metadata": {
        "colab": {
          "base_uri": "https://localhost:8080/"
        },
        "id": "4OHEk2ITvxto",
        "outputId": "aa547f03-8985-4b4b-e1d8-56a94cb6bdde"
      },
      "execution_count": 18,
      "outputs": [
        {
          "output_type": "stream",
          "name": "stdout",
          "text": [
            "The rpy2.ipython extension is already loaded. To reload it, use:\n",
            "  %reload_ext rpy2.ipython\n"
          ]
        }
      ]
    },
    {
      "cell_type": "code",
      "source": [
        "from google.colab import files\n",
        "uploaded = files.upload()"
      ],
      "metadata": {
        "colab": {
          "base_uri": "https://localhost:8080/",
          "height": 73
        },
        "id": "0E5XinkWv68b",
        "outputId": "4bcb2a85-588e-47f1-ea53-1fd849caf406"
      },
      "execution_count": 3,
      "outputs": [
        {
          "output_type": "display_data",
          "data": {
            "text/plain": [
              "<IPython.core.display.HTML object>"
            ],
            "text/html": [
              "\n",
              "     <input type=\"file\" id=\"files-b0c1ef5b-c207-4e4b-bd96-a1d45c9dfa53\" name=\"files[]\" multiple disabled\n",
              "        style=\"border:none\" />\n",
              "     <output id=\"result-b0c1ef5b-c207-4e4b-bd96-a1d45c9dfa53\">\n",
              "      Upload widget is only available when the cell has been executed in the\n",
              "      current browser session. Please rerun this cell to enable.\n",
              "      </output>\n",
              "      <script>// Copyright 2017 Google LLC\n",
              "//\n",
              "// Licensed under the Apache License, Version 2.0 (the \"License\");\n",
              "// you may not use this file except in compliance with the License.\n",
              "// You may obtain a copy of the License at\n",
              "//\n",
              "//      http://www.apache.org/licenses/LICENSE-2.0\n",
              "//\n",
              "// Unless required by applicable law or agreed to in writing, software\n",
              "// distributed under the License is distributed on an \"AS IS\" BASIS,\n",
              "// WITHOUT WARRANTIES OR CONDITIONS OF ANY KIND, either express or implied.\n",
              "// See the License for the specific language governing permissions and\n",
              "// limitations under the License.\n",
              "\n",
              "/**\n",
              " * @fileoverview Helpers for google.colab Python module.\n",
              " */\n",
              "(function(scope) {\n",
              "function span(text, styleAttributes = {}) {\n",
              "  const element = document.createElement('span');\n",
              "  element.textContent = text;\n",
              "  for (const key of Object.keys(styleAttributes)) {\n",
              "    element.style[key] = styleAttributes[key];\n",
              "  }\n",
              "  return element;\n",
              "}\n",
              "\n",
              "// Max number of bytes which will be uploaded at a time.\n",
              "const MAX_PAYLOAD_SIZE = 100 * 1024;\n",
              "\n",
              "function _uploadFiles(inputId, outputId) {\n",
              "  const steps = uploadFilesStep(inputId, outputId);\n",
              "  const outputElement = document.getElementById(outputId);\n",
              "  // Cache steps on the outputElement to make it available for the next call\n",
              "  // to uploadFilesContinue from Python.\n",
              "  outputElement.steps = steps;\n",
              "\n",
              "  return _uploadFilesContinue(outputId);\n",
              "}\n",
              "\n",
              "// This is roughly an async generator (not supported in the browser yet),\n",
              "// where there are multiple asynchronous steps and the Python side is going\n",
              "// to poll for completion of each step.\n",
              "// This uses a Promise to block the python side on completion of each step,\n",
              "// then passes the result of the previous step as the input to the next step.\n",
              "function _uploadFilesContinue(outputId) {\n",
              "  const outputElement = document.getElementById(outputId);\n",
              "  const steps = outputElement.steps;\n",
              "\n",
              "  const next = steps.next(outputElement.lastPromiseValue);\n",
              "  return Promise.resolve(next.value.promise).then((value) => {\n",
              "    // Cache the last promise value to make it available to the next\n",
              "    // step of the generator.\n",
              "    outputElement.lastPromiseValue = value;\n",
              "    return next.value.response;\n",
              "  });\n",
              "}\n",
              "\n",
              "/**\n",
              " * Generator function which is called between each async step of the upload\n",
              " * process.\n",
              " * @param {string} inputId Element ID of the input file picker element.\n",
              " * @param {string} outputId Element ID of the output display.\n",
              " * @return {!Iterable<!Object>} Iterable of next steps.\n",
              " */\n",
              "function* uploadFilesStep(inputId, outputId) {\n",
              "  const inputElement = document.getElementById(inputId);\n",
              "  inputElement.disabled = false;\n",
              "\n",
              "  const outputElement = document.getElementById(outputId);\n",
              "  outputElement.innerHTML = '';\n",
              "\n",
              "  const pickedPromise = new Promise((resolve) => {\n",
              "    inputElement.addEventListener('change', (e) => {\n",
              "      resolve(e.target.files);\n",
              "    });\n",
              "  });\n",
              "\n",
              "  const cancel = document.createElement('button');\n",
              "  inputElement.parentElement.appendChild(cancel);\n",
              "  cancel.textContent = 'Cancel upload';\n",
              "  const cancelPromise = new Promise((resolve) => {\n",
              "    cancel.onclick = () => {\n",
              "      resolve(null);\n",
              "    };\n",
              "  });\n",
              "\n",
              "  // Wait for the user to pick the files.\n",
              "  const files = yield {\n",
              "    promise: Promise.race([pickedPromise, cancelPromise]),\n",
              "    response: {\n",
              "      action: 'starting',\n",
              "    }\n",
              "  };\n",
              "\n",
              "  cancel.remove();\n",
              "\n",
              "  // Disable the input element since further picks are not allowed.\n",
              "  inputElement.disabled = true;\n",
              "\n",
              "  if (!files) {\n",
              "    return {\n",
              "      response: {\n",
              "        action: 'complete',\n",
              "      }\n",
              "    };\n",
              "  }\n",
              "\n",
              "  for (const file of files) {\n",
              "    const li = document.createElement('li');\n",
              "    li.append(span(file.name, {fontWeight: 'bold'}));\n",
              "    li.append(span(\n",
              "        `(${file.type || 'n/a'}) - ${file.size} bytes, ` +\n",
              "        `last modified: ${\n",
              "            file.lastModifiedDate ? file.lastModifiedDate.toLocaleDateString() :\n",
              "                                    'n/a'} - `));\n",
              "    const percent = span('0% done');\n",
              "    li.appendChild(percent);\n",
              "\n",
              "    outputElement.appendChild(li);\n",
              "\n",
              "    const fileDataPromise = new Promise((resolve) => {\n",
              "      const reader = new FileReader();\n",
              "      reader.onload = (e) => {\n",
              "        resolve(e.target.result);\n",
              "      };\n",
              "      reader.readAsArrayBuffer(file);\n",
              "    });\n",
              "    // Wait for the data to be ready.\n",
              "    let fileData = yield {\n",
              "      promise: fileDataPromise,\n",
              "      response: {\n",
              "        action: 'continue',\n",
              "      }\n",
              "    };\n",
              "\n",
              "    // Use a chunked sending to avoid message size limits. See b/62115660.\n",
              "    let position = 0;\n",
              "    do {\n",
              "      const length = Math.min(fileData.byteLength - position, MAX_PAYLOAD_SIZE);\n",
              "      const chunk = new Uint8Array(fileData, position, length);\n",
              "      position += length;\n",
              "\n",
              "      const base64 = btoa(String.fromCharCode.apply(null, chunk));\n",
              "      yield {\n",
              "        response: {\n",
              "          action: 'append',\n",
              "          file: file.name,\n",
              "          data: base64,\n",
              "        },\n",
              "      };\n",
              "\n",
              "      let percentDone = fileData.byteLength === 0 ?\n",
              "          100 :\n",
              "          Math.round((position / fileData.byteLength) * 100);\n",
              "      percent.textContent = `${percentDone}% done`;\n",
              "\n",
              "    } while (position < fileData.byteLength);\n",
              "  }\n",
              "\n",
              "  // All done.\n",
              "  yield {\n",
              "    response: {\n",
              "      action: 'complete',\n",
              "    }\n",
              "  };\n",
              "}\n",
              "\n",
              "scope.google = scope.google || {};\n",
              "scope.google.colab = scope.google.colab || {};\n",
              "scope.google.colab._files = {\n",
              "  _uploadFiles,\n",
              "  _uploadFilesContinue,\n",
              "};\n",
              "})(self);\n",
              "</script> "
            ]
          },
          "metadata": {}
        },
        {
          "output_type": "stream",
          "name": "stdout",
          "text": [
            "Saving Growth_final.csv to Growth_final.csv\n"
          ]
        }
      ]
    },
    {
      "cell_type": "code",
      "source": [
        "%%R\n",
        "\n",
        "# Install and load required packages\n",
        "if (!require(\"ggplot2\")) install.packages(\"ggplot2\", repos='http://cran.us.r-project.org')\n",
        "library(ggplot2)\n",
        "\n",
        "# Read the uploaded CSV file\n",
        "data <- read.csv(\"Growth_final.csv\")\n",
        "\n",
        "data"
      ],
      "metadata": {
        "colab": {
          "base_uri": "https://localhost:8080/"
        },
        "id": "Xe63nZ7AxTlJ",
        "outputId": "001654f5-d2a8-4867-e2e7-a7153125c683"
      },
      "execution_count": 16,
      "outputs": [
        {
          "output_type": "stream",
          "name": "stdout",
          "text": [
            "   week mean_smed mean_dtah  sd_smed    sd_dtah\n",
            "1     1 10.000000  10.00000 0.000000  0.0000000\n",
            "2     2 10.000000  10.00000 0.000000  0.0000000\n",
            "3     3 10.000000  10.00000 0.000000  0.0000000\n",
            "4     4 10.000000  10.00000 0.000000  0.0000000\n",
            "5     5 10.000000  10.00000 0.000000  0.0000000\n",
            "6     6 10.000000  10.33333 0.000000  0.5773503\n",
            "7     7  9.333333  12.00000 1.154701  1.0000000\n",
            "8     8  9.000000  13.33333 1.000000  1.5275252\n",
            "9     9  7.333333  14.66667 1.527525  3.0550505\n",
            "10   10  6.000000  16.33333 1.000000  3.2145503\n",
            "11   11  4.666667  19.66667 2.081666  3.0550505\n",
            "12   12  4.666667  21.00000 2.081666  3.4641016\n",
            "13   13  3.333333  26.66667 2.516611  3.7859389\n",
            "14   14  3.000000  41.00000 2.645751  9.5393920\n",
            "15   15  3.000000  45.66667 2.645751 13.3166562\n",
            "16   16  3.000000  69.66667 2.645751 15.8850034\n",
            "17   17  3.000000  89.00000 2.645751 22.7156334\n",
            "18   18  3.000000 129.00000 2.645751 23.8117618\n",
            "19   19  3.000000 155.66667 2.645751 33.2014056\n",
            "20   20  3.000000 206.00000 2.645751 26.8514432\n",
            "21   21  3.000000 267.66667 2.645751 50.6392470\n",
            "22   22  3.000000 293.66667 2.645751 40.4639758\n",
            "23   23  3.000000 312.66667 2.645751 11.9303535\n"
          ]
        }
      ]
    },
    {
      "cell_type": "code",
      "source": [
        "%%R\n",
        "\n",
        "# Install and load ggplot2\n",
        "if (!require(\"ggplot2\")) install.packages(\"ggplot2\", repos='http://cran.us.r-project.org')\n",
        "library(ggplot2)\n",
        "\n",
        "# Read the uploaded CSV file\n",
        "data <- read.csv(\"Growth_final.csv\")\n",
        "\n",
        "# Remove weeks 22 and 23\n",
        "data <- subset(data, !(week %in% c(22, 23)))\n",
        "\n",
        "# Prepare data in long format for easier plotting\n",
        "data_long <- data.frame(\n",
        "  week = rep(data$week, 2),\n",
        "  mean = c(data$mean_smed, data$mean_dtah),\n",
        "  sd = c(data$sd_smed, data$sd_dtah),\n",
        "  group = factor(rep(c(\"smed\", \"dtah\"), each = nrow(data)))\n",
        ")\n",
        "\n",
        "# Colorblind-friendly palette (Okabe & Ito)\n",
        "color_palette <- c(\"smed\" = \"#0072B2\", \"dtah\" = \"#E69F00\")\n",
        "shape_palette <- c(\"smed\" = 16, \"dtah\" = 17) # Circle, triangle\n",
        "linetype_palette <- c(\"smed\" = \"solid\", \"dtah\" = \"dashed\")\n",
        "\n",
        "# Plot with sans-serif font (Arial-like)\n",
        "p <- ggplot(data_long, aes(x = week, y = mean, group = group)) +\n",
        "  geom_line(aes(color = group, linetype = group), size = 1) +\n",
        "  geom_point(aes(shape = group, color = group), size = 3) +\n",
        "  geom_errorbar(aes(ymin = mean - sd, ymax = mean + sd, color = group), width = 0.2) +\n",
        "  scale_color_manual(values = color_palette) +\n",
        "  scale_shape_manual(values = shape_palette) +\n",
        "  scale_linetype_manual(values = linetype_palette) +\n",
        "  labs(x = \"Week\", y = \"Number of worms\", color = \"Species\", shape = \"Species\", linetype = \"Species\") +\n",
        "  scale_x_continuous(breaks = data$week) +\n",
        "  ggtitle(\"Average number of worms over time\") +\n",
        "  theme_minimal() +\n",
        "  theme(\n",
        "    text = element_text(family = \"sans\"),\n",
        "    legend.title = element_blank(),\n",
        "    plot.title = element_text(hjust = 0.5),\n",
        "    legend.position = c(0.8, 0.2)\n",
        "  )\n",
        "\n",
        "print(p)\n",
        "ggsave(\"growth_accessible_sans.png\", plot = p, width = 8, height = 6)\n"
      ],
      "metadata": {
        "colab": {
          "base_uri": "https://localhost:8080/",
          "height": 497
        },
        "id": "mwh2gUqjw8OJ",
        "outputId": "4352e66b-1cc2-41a5-b8c4-3b8d2fbb1192"
      },
      "execution_count": 20,
      "outputs": [
        {
          "output_type": "display_data",
          "data": {
            "image/png": "[encoded data removed]",
            "text/plain": [
              "<IPython.core.display.Image object>"
            ]
          },
          "metadata": {}
        }
      ]
    }
  ]
}